{
 "cells": [
  {
   "cell_type": "code",
   "execution_count": 1,
   "metadata": {},
   "outputs": [
    {
     "name": "stdout",
     "output_type": "stream",
     "text": [
      "Collecting face-recognition\n",
      "  Using cached face_recognition-1.3.0-py2.py3-none-any.whl.metadata (21 kB)\n",
      "Collecting face-recognition-models>=0.3.0 (from face-recognition)\n",
      "  Downloading face_recognition_models-0.3.0.tar.gz (100.1 MB)\n",
      "\u001b[2K     \u001b[38;2;114;156;31m━━━━━━━━━━━━━━━━━━━━━━━━━━━━━━━━━━━━━\u001b[0m \u001b[32m100.1/100.1 MB\u001b[0m \u001b[31m199.1 kB/s\u001b[0m eta \u001b[36m0:00:00\u001b[0mm eta \u001b[36m0:00:01\u001b[0m[36m0:00:12\u001b[0m\n",
      "\u001b[?25h  Preparing metadata (setup.py) ... \u001b[?25ldone\n",
      "\u001b[?25hRequirement already satisfied: Click>=6.0 in /home/krhuhun/.local/lib/python3.8/site-packages (from face-recognition) (8.1.3)\n",
      "Collecting dlib>=19.7 (from face-recognition)\n",
      "  Downloading dlib-19.24.6.tar.gz (3.4 MB)\n",
      "\u001b[2K     \u001b[38;2;114;156;31m━━━━━━━━━━━━━━━━━━━━━━━━━━━━━━━━━━━━━━━━\u001b[0m \u001b[32m3.4/3.4 MB\u001b[0m \u001b[31m173.1 kB/s\u001b[0m eta \u001b[36m0:00:00\u001b[0mm eta \u001b[36m0:00:01\u001b[0m[36m0:00:01\u001b[0m\n",
      "\u001b[?25h  Preparing metadata (setup.py) ... \u001b[?25ldone\n",
      "\u001b[?25hRequirement already satisfied: numpy in /home/krhuhun/.local/lib/python3.8/site-packages (from face-recognition) (1.24.4)\n",
      "Requirement already satisfied: Pillow in /home/krhuhun/anaconda3/envs/choppbot_backend/lib/python3.8/site-packages (from face-recognition) (9.4.0)\n",
      "Downloading face_recognition-1.3.0-py2.py3-none-any.whl (15 kB)\n",
      "Building wheels for collected packages: dlib, face-recognition-models\n",
      "  Building wheel for dlib (setup.py) ... \u001b[?25lerror\n",
      "  \u001b[1;31merror\u001b[0m: \u001b[1msubprocess-exited-with-error\u001b[0m\n",
      "  \n",
      "  \u001b[31m×\u001b[0m \u001b[32mpython setup.py bdist_wheel\u001b[0m did not run successfully.\n",
      "  \u001b[31m│\u001b[0m exit code: \u001b[1;36m1\u001b[0m\n",
      "  \u001b[31m╰─>\u001b[0m \u001b[31m[41 lines of output]\u001b[0m\n",
      "  \u001b[31m   \u001b[0m running bdist_wheel\n",
      "  \u001b[31m   \u001b[0m running build\n",
      "  \u001b[31m   \u001b[0m running build_ext\n",
      "  \u001b[31m   \u001b[0m \n",
      "  \u001b[31m   \u001b[0m ================================================================================\n",
      "  \u001b[31m   \u001b[0m ================================================================================\n",
      "  \u001b[31m   \u001b[0m ================================================================================\n",
      "  \u001b[31m   \u001b[0m \n",
      "  \u001b[31m   \u001b[0m                    CMake is not installed on your system!\n",
      "  \u001b[31m   \u001b[0m \n",
      "  \u001b[31m   \u001b[0m     Or it is possible some broken copy of cmake is installed on your system.\n",
      "  \u001b[31m   \u001b[0m     It is unfortunately very common for python package managers to include\n",
      "  \u001b[31m   \u001b[0m     broken copies of cmake.  So if the error above this refers to some file\n",
      "  \u001b[31m   \u001b[0m     path to a cmake file inside a python or anaconda or miniconda path then you\n",
      "  \u001b[31m   \u001b[0m     should delete that broken copy of cmake from your computer.\n",
      "  \u001b[31m   \u001b[0m \n",
      "  \u001b[31m   \u001b[0m     Instead, please get an official copy of cmake from one of these known good\n",
      "  \u001b[31m   \u001b[0m     sources of an official cmake:\n",
      "  \u001b[31m   \u001b[0m         - cmake.org (this is how windows users should get cmake)\n",
      "  \u001b[31m   \u001b[0m         - apt install cmake (for Ubuntu or Debian based systems)\n",
      "  \u001b[31m   \u001b[0m         - yum install cmake (for Redhat or CenOS based systems)\n",
      "  \u001b[31m   \u001b[0m \n",
      "  \u001b[31m   \u001b[0m     On a linux machine you can run `which cmake` to see what cmake you are\n",
      "  \u001b[31m   \u001b[0m     actually using.  If it tells you it's some cmake from any kind of python\n",
      "  \u001b[31m   \u001b[0m     packager delete it and install an official cmake.\n",
      "  \u001b[31m   \u001b[0m \n",
      "  \u001b[31m   \u001b[0m     More generally, cmake is not installed if when you open a terminal window\n",
      "  \u001b[31m   \u001b[0m     and type\n",
      "  \u001b[31m   \u001b[0m        cmake --version\n",
      "  \u001b[31m   \u001b[0m     you get an error.  So you can use that as a very basic test to see if you\n",
      "  \u001b[31m   \u001b[0m     have cmake installed.  That is, if cmake --version doesn't run from the\n",
      "  \u001b[31m   \u001b[0m     same terminal window from which you are reading this error message, then\n",
      "  \u001b[31m   \u001b[0m     you have not installed cmake.  Windows users should take note that they\n",
      "  \u001b[31m   \u001b[0m     need to tell the cmake installer to add cmake to their PATH.  Since you\n",
      "  \u001b[31m   \u001b[0m     can't run commands that are not in your PATH.  This is how the PATH works\n",
      "  \u001b[31m   \u001b[0m     on Linux as well, but failing to add cmake to the PATH is a particularly\n",
      "  \u001b[31m   \u001b[0m     common problem on windows and rarely a problem on Linux.\n",
      "  \u001b[31m   \u001b[0m \n",
      "  \u001b[31m   \u001b[0m ================================================================================\n",
      "  \u001b[31m   \u001b[0m ================================================================================\n",
      "  \u001b[31m   \u001b[0m ================================================================================\n",
      "  \u001b[31m   \u001b[0m \u001b[31m[end of output]\u001b[0m\n",
      "  \n",
      "  \u001b[1;35mnote\u001b[0m: This error originates from a subprocess, and is likely not a problem with pip.\n",
      "\u001b[31m  ERROR: Failed building wheel for dlib\u001b[0m\u001b[31m\n",
      "\u001b[0m\u001b[?25h  Running setup.py clean for dlib\n",
      "  Building wheel for face-recognition-models (setup.py) ... \u001b[?25ldone\n",
      "\u001b[?25h  Created wheel for face-recognition-models: filename=face_recognition_models-0.3.0-py2.py3-none-any.whl size=100566171 sha256=deda7357ceebb24d3eb73652b685786f2960789a574634dd3c48e3a5a9f8f74e\n",
      "  Stored in directory: /home/krhuhun/.cache/pip/wheels/b4/4b/8f/751e99d45f089bdf366a7d3e5066db3c2b84a62e4377f534d7\n",
      "Successfully built face-recognition-models\n",
      "Failed to build dlib\n",
      "\u001b[31mERROR: Could not build wheels for dlib, which is required to install pyproject.toml-based projects\u001b[0m\u001b[31m\n",
      "\u001b[0m\n",
      "\u001b[1m[\u001b[0m\u001b[34;49mnotice\u001b[0m\u001b[1;39;49m]\u001b[0m\u001b[39;49m A new release of pip is available: \u001b[0m\u001b[31;49m24.0\u001b[0m\u001b[39;49m -> \u001b[0m\u001b[32;49m24.2\u001b[0m\n",
      "\u001b[1m[\u001b[0m\u001b[34;49mnotice\u001b[0m\u001b[1;39;49m]\u001b[0m\u001b[39;49m To update, run: \u001b[0m\u001b[32;49mpip install --upgrade pip\u001b[0m\n"
     ]
    }
   ],
   "source": [
    "!pip install face-recognition"
   ]
  },
  {
   "cell_type": "code",
   "execution_count": null,
   "metadata": {},
   "outputs": [],
   "source": [
    "import face_recognition\n",
    "\n",
    "known_image = face_recognition.load_image_file(\"ana_seria.jpg\")\n",
    "biden_encoding = face_recognition.face_encodings(known_image)[0]\n",
    "\n",
    "print(biden_encoding)"
   ]
  }
 ],
 "metadata": {
  "kernelspec": {
   "display_name": "choppbot_backend",
   "language": "python",
   "name": "python3"
  },
  "language_info": {
   "codemirror_mode": {
    "name": "ipython",
    "version": 3
   },
   "file_extension": ".py",
   "mimetype": "text/x-python",
   "name": "python",
   "nbconvert_exporter": "python",
   "pygments_lexer": "ipython3",
   "version": "3.8.16"
  }
 },
 "nbformat": 4,
 "nbformat_minor": 2
}
